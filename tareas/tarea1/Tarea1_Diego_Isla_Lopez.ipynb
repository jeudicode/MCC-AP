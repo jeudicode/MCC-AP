{
  "nbformat": 4,
  "nbformat_minor": 0,
  "metadata": {
    "colab": {
      "name": "Tarea1_Diego-Isla-Lopez.ipynb",
      "provenance": [],
      "collapsed_sections": [],
      "authorship_tag": "ABX9TyNU/zkw6UWakPIDCXV0D4ym",
      "include_colab_link": true
    },
    "kernelspec": {
      "name": "python3",
      "display_name": "Python 3"
    }
  },
  "cells": [
    {
      "cell_type": "markdown",
      "metadata": {
        "id": "view-in-github",
        "colab_type": "text"
      },
      "source": [
        "<a href=\"https://colab.research.google.com/github/jeudicode/MCC-AP/blob/master/tareas/tarea1/Tarea1_Diego_Isla_Lopez.ipynb\" target=\"_parent\"><img src=\"https://colab.research.google.com/assets/colab-badge.svg\" alt=\"Open In Colab\"/></a>"
      ]
    },
    {
      "cell_type": "code",
      "metadata": {
        "id": "kPkuxSk7eFog"
      },
      "source": [
        "import numpy as np\n",
        "import scipy as sp\n",
        "import matplotlib.pyplot as plt\n",
        "from sklearn import datasets"
      ],
      "execution_count": 20,
      "outputs": []
    },
    {
      "cell_type": "markdown",
      "metadata": {
        "id": "hUi5G_F1bNE1"
      },
      "source": [
        "**Ejercicio 1: Red de unidades de umbral lineal**\n",
        "\n",
        "Programa y evalúa una red de neuronas con funciones de activación escalón unitario que aproxime la operación XNOR.\n",
        "\n"
      ]
    },
    {
      "cell_type": "code",
      "metadata": {
        "id": "Z6DngYZReEGW"
      },
      "source": [
        "def escalon(z):\n",
        "    if z > 0.0:\n",
        "        return 1.0\n",
        "    else:\n",
        "        return 0.0"
      ],
      "execution_count": 21,
      "outputs": []
    },
    {
      "cell_type": "code",
      "metadata": {
        "id": "uOg5tqHD1k6x"
      },
      "source": [
        "\n",
        "def neurona(x, w, b):\n",
        "  z = np.dot(w.T, x) + b\n",
        "  a = escalon(z)\n",
        "\n",
        "  return a"
      ],
      "execution_count": 22,
      "outputs": []
    },
    {
      "cell_type": "code",
      "metadata": {
        "id": "NrOHrs78gnov"
      },
      "source": [
        "def multicapa(x, W1, b1, W2, b2):\n",
        "  escv = np.vectorize(escalon)\n",
        "  a = escv(np.dot(W1.T, x) + b1)\n",
        "  return escv(np.dot(W2.T, a) + b2)"
      ],
      "execution_count": 23,
      "outputs": []
    },
    {
      "cell_type": "markdown",
      "metadata": {
        "id": "kdGJ12bRFlb1"
      },
      "source": [
        "Definimos el vector objetivo para la compuerta XNOR de la siguiente manera:"
      ]
    },
    {
      "cell_type": "code",
      "metadata": {
        "id": "U7VG1xTJFt63"
      },
      "source": [
        "y_xnor = [1., 0., 0., 1.]"
      ],
      "execution_count": 24,
      "outputs": []
    },
    {
      "cell_type": "markdown",
      "metadata": {
        "id": "-WFgnhL1GRBv"
      },
      "source": [
        "Definimos el vector con las entradas posibles:"
      ]
    },
    {
      "cell_type": "code",
      "metadata": {
        "id": "0bB-4LzcGUr6"
      },
      "source": [
        "X = np.array([[0., 0.], [0., 1.], [1., 0.], [1., 1.]])\n"
      ],
      "execution_count": 25,
      "outputs": []
    },
    {
      "cell_type": "markdown",
      "metadata": {
        "id": "lEa1ohSxP5S6"
      },
      "source": [
        "Para la estructura de la red, utilizamos una muy similar a la requerida para la compuerta XOR. En este caso, en lugar de usar una neurona que aplique la operación NAND, utilizamos una que aplique la operación NOR, además de una neurona que aplique la operación OR en la última capa. "
      ]
    },
    {
      "cell_type": "markdown",
      "metadata": {
        "id": "1VllZ3d9iwrN"
      },
      "source": [
        "Para esto, primero debemos obtener los pesos necesarios para la operación NOR y definir la salida esperada. En este caso, observamos que los pesos necesarios son -1 para ambas entradas con un sesgo de 1"
      ]
    },
    {
      "cell_type": "code",
      "metadata": {
        "id": "YmzBJs06maCE"
      },
      "source": [
        "W1_nor = np.array([-1, -1])\n",
        "b1_nor = np.array([1])\n",
        "y_nor = np.array([1.,0.,0.,0.])"
      ],
      "execution_count": 26,
      "outputs": []
    },
    {
      "cell_type": "code",
      "metadata": {
        "id": "PHiaSYwM1X3U",
        "outputId": "b2908f80-a416-45fe-b3b9-3505ed1c666a",
        "colab": {
          "base_uri": "https://localhost:8080/",
          "height": 85
        }
      },
      "source": [
        "for i in range(X.shape[0]):\n",
        "  y_hat = neurona(X[i], W1_nor, b1_nor)\n",
        "  print('{0}\\t{1}\\t{2}\\t{3}'.format(X[i, 0], X[i, 1], y_nor[i], y_hat))"
      ],
      "execution_count": 27,
      "outputs": [
        {
          "output_type": "stream",
          "text": [
            "0.0\t0.0\t1.0\t1.0\n",
            "0.0\t1.0\t0.0\t0.0\n",
            "1.0\t0.0\t0.0\t0.0\n",
            "1.0\t1.0\t0.0\t0.0\n"
          ],
          "name": "stdout"
        }
      ]
    },
    {
      "cell_type": "markdown",
      "metadata": {
        "id": "3CV8F4r43hnU"
      },
      "source": [
        "De este modo, sabemos que los pesos y sesgos para las compuertas necesarias son:\n",
        "\n",
        "AND: W = [10, 10], b = -15\n",
        "\n",
        "NOR: W = [-1, -1], b = 1\n",
        "\n",
        "OR:  W = [10, 10], b = -5\n",
        "\n",
        "\n",
        "Representamos esto en la estructura de la red:"
      ]
    },
    {
      "cell_type": "code",
      "metadata": {
        "id": "ErbwjgqOP72v"
      },
      "source": [
        "W1 = np.array([[10, -1], [10, -1]])\n",
        "b1 = np.array([-15, 1])\n",
        "\n",
        "W2 = np.array([[10],[10]])\n",
        "b2 = np.array([-5])"
      ],
      "execution_count": 38,
      "outputs": []
    },
    {
      "cell_type": "markdown",
      "metadata": {
        "id": "w097eGOwQFL9"
      },
      "source": [
        "Se realiza la evaluación:"
      ]
    },
    {
      "cell_type": "code",
      "metadata": {
        "id": "YCWEDZLDQG9X",
        "outputId": "25196e68-fa11-4a6b-98da-902a63e958c0",
        "colab": {
          "base_uri": "https://localhost:8080/",
          "height": 85
        }
      },
      "source": [
        "for i in range(X.shape[0]):\n",
        "  y_hat = multicapa(X[i], W1, b1, W2, b2)\n",
        "  print('{0}\\t{1}\\t{2}\\t{3}'.format(X[i, 0], X[i, 1], y_xnor[i], y_hat[0]))"
      ],
      "execution_count": 39,
      "outputs": [
        {
          "output_type": "stream",
          "text": [
            "0.0\t0.0\t1.0\t1.0\n",
            "0.0\t1.0\t0.0\t0.0\n",
            "1.0\t0.0\t0.0\t0.0\n",
            "1.0\t1.0\t1.0\t1.0\n"
          ],
          "name": "stdout"
        }
      ]
    }
  ]
}
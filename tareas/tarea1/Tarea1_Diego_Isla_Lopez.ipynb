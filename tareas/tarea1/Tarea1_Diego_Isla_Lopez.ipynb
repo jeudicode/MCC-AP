{
  "nbformat": 4,
  "nbformat_minor": 0,
  "metadata": {
    "colab": {
      "name": "Tarea1_Diego-Isla-Lopez.ipynb",
      "provenance": [],
      "collapsed_sections": [],
      "authorship_tag": "ABX9TyM7G7t8jtAIMyssXxQeI3hf",
      "include_colab_link": true
    },
    "kernelspec": {
      "name": "python3",
      "display_name": "Python 3"
    }
  },
  "cells": [
    {
      "cell_type": "markdown",
      "metadata": {
        "id": "view-in-github",
        "colab_type": "text"
      },
      "source": [
        "<a href=\"https://colab.research.google.com/github/jeudicode/MCC-AP/blob/master/tareas/tarea1/Tarea1_Diego_Isla_Lopez.ipynb\" target=\"_parent\"><img src=\"https://colab.research.google.com/assets/colab-badge.svg\" alt=\"Open In Colab\"/></a>"
      ]
    },
    {
      "cell_type": "code",
      "metadata": {
        "id": "kPkuxSk7eFog"
      },
      "source": [
        "import numpy as np\n",
        "import scipy as sp\n",
        "import matplotlib.pyplot as plt\n",
        "from sklearn import datasets\n",
        "import os\n",
        "from itertools import islice as take\n",
        "import matplotlib.pyplot as plt\n",
        "from mpl_toolkits.mplot3d import Axes3D\n",
        "import numpy as np\n",
        "import pandas as pd\n",
        "import random\n",
        "import torch\n",
        "import torch.nn as nn\n",
        "import torch.nn.functional as F\n",
        "import torch.optim as optim\n",
        "import torchvision.datasets.utils as vutils\n",
        "import torchvision.transforms as trans\n",
        "from torchvision.datasets import FashionMNIST\n",
        "from torch.utils.data import DataLoader\n",
        "from torchvision.datasets.utils import download_url\n",
        "from torchsummary import summary\n",
        "\n"
      ],
      "execution_count": null,
      "outputs": []
    },
    {
      "cell_type": "markdown",
      "metadata": {
        "id": "hUi5G_F1bNE1"
      },
      "source": [
        "# Ejercicio 1: Red de unidades de umbral lineal\n",
        "\n",
        "**Programa y evalúa una red de neuronas con funciones de activación escalón unitario que aproxime la operación XNOR.**\n",
        "\n"
      ]
    },
    {
      "cell_type": "markdown",
      "metadata": {
        "id": "zXkamGTYE4MP"
      },
      "source": [
        "Definimos nuestras funciones que usaremos para representar la función de evaluación y de representación de neuronas y las capas:"
      ]
    },
    {
      "cell_type": "code",
      "metadata": {
        "id": "Z6DngYZReEGW"
      },
      "source": [
        "def escalon(z):\n",
        "    if z > 0.0:\n",
        "        return 1.0\n",
        "    else:\n",
        "        return 0.0"
      ],
      "execution_count": null,
      "outputs": []
    },
    {
      "cell_type": "code",
      "metadata": {
        "id": "uOg5tqHD1k6x"
      },
      "source": [
        "\n",
        "def neurona(x, w, b):\n",
        "  z = np.dot(w.T, x) + b\n",
        "  a = escalon(z)\n",
        "\n",
        "  return a"
      ],
      "execution_count": null,
      "outputs": []
    },
    {
      "cell_type": "code",
      "metadata": {
        "id": "NrOHrs78gnov"
      },
      "source": [
        "def multicapa(x, W1, b1, W2, b2):\n",
        "  escv = np.vectorize(escalon)\n",
        "  a = escv(np.dot(W1.T, x) + b1)\n",
        "  return escv(np.dot(W2.T, a) + b2)"
      ],
      "execution_count": null,
      "outputs": []
    },
    {
      "cell_type": "markdown",
      "metadata": {
        "id": "kdGJ12bRFlb1"
      },
      "source": [
        "Definimos el vector objetivo para la compuerta XNOR de la siguiente manera:"
      ]
    },
    {
      "cell_type": "code",
      "metadata": {
        "id": "U7VG1xTJFt63"
      },
      "source": [
        "y_xnor = [1., 0., 0., 1.]"
      ],
      "execution_count": null,
      "outputs": []
    },
    {
      "cell_type": "markdown",
      "metadata": {
        "id": "-WFgnhL1GRBv"
      },
      "source": [
        "Definimos el vector con las entradas posibles:"
      ]
    },
    {
      "cell_type": "code",
      "metadata": {
        "id": "0bB-4LzcGUr6"
      },
      "source": [
        "X = np.array([[0., 0.], [0., 1.], [1., 0.], [1., 1.]])\n"
      ],
      "execution_count": null,
      "outputs": []
    },
    {
      "cell_type": "markdown",
      "metadata": {
        "id": "lEa1ohSxP5S6"
      },
      "source": [
        "Para la estructura de la red, utilizamos una muy similar a la requerida para la compuerta XOR. En este caso, en lugar de usar una neurona que aplique la operación NAND, utilizamos una que aplique la operación NOR, además de una neurona que aplique la operación OR en la última capa. "
      ]
    },
    {
      "cell_type": "markdown",
      "metadata": {
        "id": "1VllZ3d9iwrN"
      },
      "source": [
        "Para esto, primero debemos obtener los pesos necesarios para la operación NOR y definir la salida esperada. En este caso, observamos que los pesos necesarios son -1 para ambas entradas con un sesgo de 1"
      ]
    },
    {
      "cell_type": "code",
      "metadata": {
        "id": "YmzBJs06maCE"
      },
      "source": [
        "W1_nor = np.array([-1, -1])\n",
        "b1_nor = np.array([1])\n",
        "y_nor = np.array([1.,0.,0.,0.])"
      ],
      "execution_count": null,
      "outputs": []
    },
    {
      "cell_type": "code",
      "metadata": {
        "id": "PHiaSYwM1X3U"
      },
      "source": [
        "for i in range(X.shape[0]):\n",
        "  y_hat = neurona(X[i], W1_nor, b1_nor)\n",
        "  print('{0}\\t{1}\\t{2}\\t{3}'.format(X[i, 0], X[i, 1], y_nor[i], y_hat))"
      ],
      "execution_count": null,
      "outputs": []
    },
    {
      "cell_type": "markdown",
      "metadata": {
        "id": "3CV8F4r43hnU"
      },
      "source": [
        "De este modo, sabemos que los pesos y sesgos para las compuertas necesarias son:\n",
        "\n",
        "AND: W = [10, 10], b = -15\n",
        "\n",
        "NOR: W = [-1, -1], b = 1\n",
        "\n",
        "OR:  W = [10, 10], b = -5\n",
        "\n",
        "\n",
        "Representamos esto en la estructura de la red:"
      ]
    },
    {
      "cell_type": "code",
      "metadata": {
        "id": "ErbwjgqOP72v"
      },
      "source": [
        "W1 = np.array([[10, -1], [10, -1]])\n",
        "b1 = np.array([-15, 1])\n",
        "\n",
        "W2 = np.array([[10],[10]])\n",
        "b2 = np.array([-5])"
      ],
      "execution_count": null,
      "outputs": []
    },
    {
      "cell_type": "markdown",
      "metadata": {
        "id": "w097eGOwQFL9"
      },
      "source": [
        "Se realiza la evaluación:"
      ]
    },
    {
      "cell_type": "code",
      "metadata": {
        "id": "YCWEDZLDQG9X"
      },
      "source": [
        "for i in range(X.shape[0]):\n",
        "  y_hat = multicapa(X[i], W1, b1, W2, b2)\n",
        "  print('{0}\\t{1}\\t{2}\\t{3}'.format(X[i, 0], X[i, 1], y_xnor[i], y_hat[0]))"
      ],
      "execution_count": null,
      "outputs": []
    },
    {
      "cell_type": "markdown",
      "metadata": {
        "id": "fHBYpAlT7g2-"
      },
      "source": [
        "\n",
        "# Ejercicio 2: Retropropagación en red densa\n",
        "\n",
        "**Programa el algoritmo de retropropagación usando NumPy para una tarea de clasificación binaria presuponiendo un red densa con dos capas ocultas y la función de pérdida de entropía cruzada binaria. Describe las fórmulas y reglas de actualización de los pesos y sesgos de cada capa y entrena y evalúa la red en algún conjunto de datos.**"
      ]
    },
    {
      "cell_type": "markdown",
      "metadata": {
        "id": "v3q23DzGAMDE"
      },
      "source": [
        "Definimos nuestras funciones, actualizando la función de feed-forward y la función de retropropagación para trabajar con dos capas ocultas:"
      ]
    },
    {
      "cell_type": "code",
      "metadata": {
        "id": "SRWly5fe8HtC"
      },
      "source": [
        "def sigmoide(z):\n",
        "    return 1 / (1 + np.exp(-z))"
      ],
      "execution_count": null,
      "outputs": []
    },
    {
      "cell_type": "markdown",
      "metadata": {
        "id": "hqhu-1xRAYGr"
      },
      "source": [
        "La función de activación seguirá siendo la sigmoide, dada por:\n",
        "\n",
        "$\\sigma(z) = \\frac{1}{1+e^-z}$"
      ]
    },
    {
      "cell_type": "code",
      "metadata": {
        "id": "Ksx_Vi_e8JfH"
      },
      "source": [
        "def derivada_sigmoide(x):\n",
        "    return np.multiply(sigmoide(x), (1.0 - sigmoide(x)))"
      ],
      "execution_count": null,
      "outputs": []
    },
    {
      "cell_type": "markdown",
      "metadata": {
        "id": "XyQ0YJVzAlle"
      },
      "source": [
        "Del mismo modo, sabemos que la derivada de esta función es:\n",
        "\n",
        "$\\frac{\\partial \\sigma(z)}{\\partial z} = \\sigma(z)(1-\\sigma(z))$"
      ]
    },
    {
      "cell_type": "markdown",
      "metadata": {
        "id": "GpkXUwCSBNOu"
      },
      "source": [
        "La función de errror, ECB, se mantiene igual. Del mismo modo, el cálculo de la exactitud se mantiene sin cambios:"
      ]
    },
    {
      "cell_type": "code",
      "metadata": {
        "id": "RH0sRcJ97_1v"
      },
      "source": [
        "def entropia_cruzada_binaria(y, p):\n",
        "    p[p == 0] = np.nextafter(0., 1.)\n",
        "    p[p == 1] = np.nextafter(1., 0.)\n",
        "    return -(np.log(p[y == 1]).sum() + np.log(1 - p[y == 0]).sum())"
      ],
      "execution_count": null,
      "outputs": []
    },
    {
      "cell_type": "markdown",
      "metadata": {
        "id": "NiTeu14_BV58"
      },
      "source": [
        "$$\n",
        "ECB(\\mathbf{y}, \\mathbf{\\hat{y}})  = -\\sum_{i=1}^N \\left[ y^{(i)} \\log \\hat{y}^{(i)} + (1 - y^{(i)}) \\log (1 - \\hat{y}^{(i)}) \\right]\n",
        "$$"
      ]
    },
    {
      "cell_type": "code",
      "metadata": {
        "id": "UjK3w7Rv8LsA"
      },
      "source": [
        "def exactitud(y, y_predicha):\n",
        "    return (y == y_predicha).mean() * 100"
      ],
      "execution_count": null,
      "outputs": []
    },
    {
      "cell_type": "markdown",
      "metadata": {
        "id": "A5Mz7PyUBk6E"
      },
      "source": [
        "$\\texttt{exactitud} = \\frac{\\texttt{correctos}}{\\texttt{total}}$"
      ]
    },
    {
      "cell_type": "markdown",
      "metadata": {
        "id": "sBgEvqarB2JX"
      },
      "source": [
        "Al agregar una capa extra, la propagación de las capas queda de la siguiente manera:\n",
        "\n",
        "\\begin{align}\n",
        "a^{\\{1\\}} &= x^{\\{i\\}}\\\\\n",
        "z^{\\{2\\}} &= W^{\\{1\\}} \\cdot a^{\\{1\\}} + b^{\\{1\\}}\\\\\n",
        "a^{\\{2\\}} &= \\sigma(z^{\\{2\\}})\\\\\n",
        "z^{\\{3\\}} &= W^{\\{2\\}} \\cdot a^{\\{2\\}} + b^{\\{2\\}}\\\\\n",
        "a^{\\{3\\}} &= \\sigma(z^{\\{3\\}})\\\\\n",
        "z^{\\{4\\}} &= W^{\\{3\\}} \\cdot a^{\\{3\\}} + b^{\\{3\\}}\\\\\n",
        "a^{\\{4\\}} &= \\sigma(z^{\\{4\\}})\\\\\n",
        "\\hat y^{\\{i\\}} &= a^{\\{4\\}}\n",
        "\\end{align}\n",
        "\n",
        "De este modo, agregamos los parámentros necesarios en las funciones:"
      ]
    },
    {
      "cell_type": "code",
      "metadata": {
        "id": "sxnr_wSG8Nm9"
      },
      "source": [
        "# en esta funcion agregamos una capa oculta más\n",
        "\n",
        "def hacia_adelante(x, W1, b1, W2, b2, W3, b3):\n",
        "    z2 = np.dot(W1.T, x[:, np.newaxis]) + b1\n",
        "    a2 = sigmoide(z2)\n",
        "    z3 = np.dot(W2.T, a2) + b2\n",
        "    a3 = sigmoide(z3)\n",
        "    z4 = np.dot(W3.T, a3) + b3\n",
        "  \n",
        "    y_hat = sigmoide(z4)\n",
        "\n",
        "    return z2, a2, z3, a3, z4, y_hat"
      ],
      "execution_count": null,
      "outputs": []
    },
    {
      "cell_type": "code",
      "metadata": {
        "id": "TDG3JVJfU94-"
      },
      "source": [
        "\n",
        "def retropropagacion(X, y, alpha = 0.01, n_epocas = 100, n_ocultas = 10):\n",
        "    n_ejemplos = X.shape[0]\n",
        "    n_entradas = X.shape[1]\n",
        "        \n",
        "    # Inicialización de las matrices de pesos W y V\n",
        "    W1 = np.sqrt(1.0 / n_entradas) * np.random.randn(n_entradas, n_ocultas)\n",
        "    b1 = np.zeros((n_ocultas, 1))\n",
        "    \n",
        "    W2 = np.sqrt(1.0 / n_ocultas) * np.random.randn(n_ocultas, n_ocultas)\n",
        "    b2 = np.zeros((n_ocultas, 1))\n",
        "\n",
        "    W3 = np.sqrt(1.0 / n_ocultas) * np.random.randn(n_ocultas, 1)\n",
        "    b3 = np.zeros((1, 1))\n",
        "    \n",
        "    perdidas = np.zeros((n_epocas))\n",
        "    exactitudes = np.zeros((n_epocas))\n",
        "    y_predicha = np.zeros((y.shape))\n",
        "    for i in range(n_epocas):\n",
        "        for j in range(n_ejemplos):\n",
        "            z2, a2, z3, a3, z4, y_hat = hacia_adelante(X[j], W1, b1, W2, b2, W3, b3)\n",
        "\n",
        "            # gradiente de capa de salida\n",
        "            dz4 = y_hat - y[j]\n",
        "            dW3 = np.outer(a3, dz4)\n",
        "            db3 = dz4\n",
        "            \n",
        "            # cálculo de gradientes para W2 y b2 por retropropagación\n",
        "            dz3 = np.dot(W3, dz4) * derivada_sigmoide(z3)\n",
        "            dW2 = np.outer(a2, dz3)\n",
        "            db2 = dz3\n",
        "\n",
        "            # cálculo de gradientes para W1 y b1 por retropropagación\n",
        "            dz2 = np.dot(W2, dz3) * derivada_sigmoide(z2)\n",
        "            dW1 = np.outer(X[j], dz2)\n",
        "            db1 = dz2\n",
        "            \n",
        "            ####################################\n",
        "            # IMPORTANTE \n",
        "            # la actualización de los parámetros\n",
        "            # debe hacerse de forma simultánea\n",
        "            W3 = W3 - alpha * dW3\n",
        "            b3 = b3 - alpha * db3\n",
        "            W2 = W2 - alpha * dW2\n",
        "            b2 = b2 - alpha * db2\n",
        "            W1 = W1 - alpha * dW1\n",
        "            b1 = b1 - alpha * db1\n",
        "\n",
        "            y_predicha[j] = y_hat\n",
        "            \n",
        "        # calcula la pérdida en la época\n",
        "        perdidas[i] = entropia_cruzada_binaria(y, y_predicha)\n",
        "        exactitudes[i] = exactitud(y, np.round(y_predicha))\n",
        "        print('Epoch {0}: Pérdida = {1} Exactitud = {2}'.format(i, \n",
        "                                                              perdidas[i], \n",
        "                                                              exactitudes[i]))\n",
        "\n",
        "    return W2, W3, perdidas, exactitudes"
      ],
      "execution_count": null,
      "outputs": []
    },
    {
      "cell_type": "markdown",
      "metadata": {
        "id": "HFeLGKBOC_26"
      },
      "source": [
        "Retomaremos el ejemplo del ejercicio anterior, entrenando la red para replicar el comportamiento de la compuerta XNOR:"
      ]
    },
    {
      "cell_type": "markdown",
      "metadata": {
        "id": "WOeCT2tCU22R"
      },
      "source": [
        "Configuramos los parámetros y llamamos el algoritmo de retropropagación. Para este caso, usamos una tasa de aprendizaje de 0.5, 1000 épocas y 3 neuronas por capa oculta."
      ]
    },
    {
      "cell_type": "code",
      "metadata": {
        "id": "61otBkfRIdvr"
      },
      "source": [
        "X = np.array([[0, 0], [0, 1], [1, 0], [1, 1]])\n",
        "y = np.array([[0, 1, 1, 0]]).T\n",
        "\n",
        "np.random.seed(1)\n",
        "W2, W3, perdidas, exactitudes = retropropagacion(X, \n",
        "                                                 y, \n",
        "                                                 alpha = 0.5, \n",
        "                                                 n_epocas = 1000,\n",
        "                                                 n_ocultas = 3)"
      ],
      "execution_count": null,
      "outputs": []
    },
    {
      "cell_type": "code",
      "metadata": {
        "id": "oFe9nxxMKWEP"
      },
      "source": [
        "plt.plot(np.arange(perdidas.size), perdidas, label='ECB')\n",
        "plt.plot(np.arange(exactitudes.size), exactitudes, label='Exactitud')\n",
        "plt.legend()\n",
        "plt.grid(True)\n",
        "plt.show()"
      ],
      "execution_count": null,
      "outputs": []
    },
    {
      "cell_type": "markdown",
      "metadata": {
        "id": "o-3Gb02LM-GC"
      },
      "source": [
        "En la gráfica es posible apreciar que el algoritmo es capaz de encontrar la configuración correcta alrededor de la época 500, además de que desde el inicio el valor de pérdida es bajo y logra disminuir gradualmente. "
      ]
    },
    {
      "cell_type": "markdown",
      "metadata": {
        "id": "L8qSCjtf-YSc"
      },
      "source": [
        "# 3. Regresión lineal con PyTorch\n",
        "\n",
        "**Entrena y evalúa un modelo de regresión lineal para el conjunto de datos de calificaciones que considere los dos atributos de entrada.**"
      ]
    },
    {
      "cell_type": "markdown",
      "metadata": {
        "id": "E_t20es8XcHP"
      },
      "source": [
        "Se carga el conjunto de datos de calificaciones:"
      ]
    },
    {
      "cell_type": "code",
      "metadata": {
        "id": "pk0ZGiXdXgve"
      },
      "source": [
        "URL = 'https://raw.githubusercontent.com/gibranfp/CursoAprendizajeProfundo/master/data/califs/califs.csv'\n",
        "base_dir = '../data/califs/'\n",
        "filename = 'califs.csv'\n",
        "filepath = os.path.join(base_dir, 'califs.csv')\n",
        "\n",
        "download_url(URL, base_dir, filename)\n",
        "\n",
        "torch.manual_seed(10) # para reproducibilidad\n"
      ],
      "execution_count": null,
      "outputs": []
    },
    {
      "cell_type": "code",
      "metadata": {
        "id": "jx3uQVuIlbuc"
      },
      "source": [
        "df = pd.read_csv(filepath, names=['calif anterior','horas de estudio','calificación'])\n",
        "df.head(5)"
      ],
      "execution_count": null,
      "outputs": []
    },
    {
      "cell_type": "markdown",
      "metadata": {
        "id": "XR5YPMOZmHgf"
      },
      "source": [
        "Graficamos tomando en cuenta ambos atributos de entrada:"
      ]
    },
    {
      "cell_type": "code",
      "metadata": {
        "id": "KEViU1COmNEH",
        "outputId": "55d8239e-8404-49b2-c3b7-19fb400111d2",
        "colab": {
          "base_uri": "https://localhost:8080/",
          "height": 248
        }
      },
      "source": [
        "x_trn = np.array(df.iloc[:,0], dtype=\"float32\")[..., np.newaxis]\n",
        "y_trn = np.array(df.iloc[:,1], dtype=\"float32\")[..., np.newaxis]\n",
        "z_trn = np.array(df.iloc[:,2], dtype=\"float32\")[..., np.newaxis]\n",
        "\n",
        "ax = plt.axes(projection='3d')\n",
        "ax.scatter3D(x_trn, y_trn, z_trn);\n"
      ],
      "execution_count": null,
      "outputs": [
        {
          "output_type": "display_data",
          "data": {
            "image/png": "[encoded data removed]",
            "text/plain": [
              "<Figure size 432x288 with 1 Axes>"
            ]
          },
          "metadata": {
            "tags": [],
            "needs_background": "light"
          }
        }
      ]
    },
    {
      "cell_type": "markdown",
      "metadata": {
        "id": "jfKAuNurvNXU"
      },
      "source": [
        "Creamos la clase del dataset tomando en cuenta los dos atributos:"
      ]
    },
    {
      "cell_type": "code",
      "metadata": {
        "id": "hh1wgCYus9Y6"
      },
      "source": [
        "class CalifDS:\n",
        "    \n",
        "    def __init__(self, X, Y, Z):\n",
        "        self.x = X\n",
        "        self.y = Y\n",
        "        self.z = Z\n",
        "\n",
        "    def __getitem__(self, i):\n",
        "        X = np.array([self.x[i], self.y[i]]).flatten()\n",
        "        y = self.z[i]\n",
        "\n",
        "        return X, y\n",
        "\n",
        "    def __len__(self):\n",
        "        return len(self.z)"
      ],
      "execution_count": null,
      "outputs": []
    },
    {
      "cell_type": "markdown",
      "metadata": {
        "id": "Mcx5-UWevhDG"
      },
      "source": [
        "Probamos el funcionamiento del dataset:"
      ]
    },
    {
      "cell_type": "code",
      "metadata": {
        "id": "0S5D0a-ivgok"
      },
      "source": [
        "batch_size = 16\n",
        "ds = CalifDS(x_trn, y_trn, z_trn)\n",
        "trn_dl = DataLoader(ds, batch_size=batch_size, shuffle=True)\n",
        "\n",
        "print(ds.__getitem__(0))\n",
        "for x, y in take(trn_dl, 1):\n",
        "    print(f'x shape={x.shape} dtype={x.dtype}')\n",
        "    print(f'y shape={y.shape} dtype={y.dtype}')"
      ],
      "execution_count": null,
      "outputs": []
    },
    {
      "cell_type": "markdown",
      "metadata": {
        "id": "KUkUDdzN3xWo"
      },
      "source": [
        "Utilizaremos las interfaces de alto y medio nivel, tomando en cuenta los dos atributos de entrada:"
      ]
    },
    {
      "cell_type": "code",
      "metadata": {
        "id": "kog-NFku31W0"
      },
      "source": [
        "model_high = nn.Sequential(\n",
        "    nn.Linear(2, 1)\n",
        ")"
      ],
      "execution_count": null,
      "outputs": []
    },
    {
      "cell_type": "code",
      "metadata": {
        "id": "EpE4RXJP3-_g"
      },
      "source": [
        "class RegLin(nn.Module):\n",
        "    def __init__(self):\n",
        "        super(RegLin, self).__init__()\n",
        "        self.fc = nn.Linear(2, 1)\n",
        "\n",
        "    def forward(self, x):\n",
        "        return self.fc(x)\n",
        "\n",
        "model_mid = RegLin()"
      ],
      "execution_count": null,
      "outputs": []
    },
    {
      "cell_type": "markdown",
      "metadata": {
        "id": "y9BNj0eS4VXP"
      },
      "source": [
        "Verificando:"
      ]
    },
    {
      "cell_type": "code",
      "metadata": {
        "id": "Emdo7VvN4YGr"
      },
      "source": [
        "print(model_high)\n",
        "print(model_mid)"
      ],
      "execution_count": null,
      "outputs": []
    },
    {
      "cell_type": "markdown",
      "metadata": {
        "id": "OeUJASEvey1E"
      },
      "source": [
        "Verificamos:"
      ]
    },
    {
      "cell_type": "code",
      "metadata": {
        "id": "Zgo51dKR4s9Z"
      },
      "source": [
        "# inferencia con datos sintéticos\n",
        "x = torch.zeros(1,2)\n",
        "y_high = model_high(x)\n",
        "y_mid = model_mid(x)\n",
        "print(x.dtype, x.shape)\n",
        "print(y_mid.dtype, y_mid.shape)\n",
        "print(y_high.dtype, y_high.shape)"
      ],
      "execution_count": null,
      "outputs": []
    },
    {
      "cell_type": "markdown",
      "metadata": {
        "id": "aY5HQ9rdewo_"
      },
      "source": [
        "Hacemos pruebas con diferentes parámetros:"
      ]
    },
    {
      "cell_type": "code",
      "metadata": {
        "id": "VZtjxpgG7Ey3"
      },
      "source": [
        "batches = [5, 10, 15, 20, 25] # tamaños de batch\n",
        "l_rates = [1e-3, 0.01, 0.2, 0.5, 0.8, 1] # tasas de aprendizaje\n",
        "epochs = [2, 5, 10, 50, 100] # números de épocas\n",
        "\n",
        "high_hist = []\n",
        "mid_hist = []\n",
        "\n",
        "# para alto nivel\n",
        "\n",
        "for batch in batches:\n",
        "  ds = CalifDS(x_trn, y_trn, z_trn)\n",
        "  trn_dl = DataLoader(ds, batch_size=batch, shuffle=True)\n",
        "\n",
        "  for rate in l_rates:\n",
        "    for epoch in epochs:\n",
        "\n",
        "      model_high = nn.Sequential(\n",
        "          nn.Linear(2, 1)\n",
        "      )\n",
        "\n",
        "      opt = optim.SGD(model_high.parameters(), lr=rate)\n",
        "\n",
        "      # historial de pérdida\n",
        "      loss_hist_high = []\n",
        "\n",
        "      for _ in range(epoch):\n",
        "        # entrenamiento de una época\n",
        "        for x, y_true in trn_dl:\n",
        "            # hacemos inferencia para obtener los logits\n",
        "            y_lgts = model_high(x)\n",
        "            # calculamos de pérdida\n",
        "            loss = F.mse_loss(y_lgts, y_true)\n",
        "            # vaciamos los gradientes\n",
        "            opt.zero_grad()\n",
        "            # retropropagamos\n",
        "            loss.backward()\n",
        "            # actulizamos parámetros\n",
        "            opt.step()\n",
        "            \n",
        "            # guardamos historial de pérdida\n",
        "            loss_hist_high.append(loss.item() * 100)\n",
        "\n",
        "        high_hist.append(loss_hist_high)\n",
        "\n",
        "# para nivel medio\n",
        "for batch in batches:\n",
        "  ds = CalifDS(x_trn, y_trn, z_trn)\n",
        "  trn_dl = DataLoader(ds, batch_size=batch, shuffle=True)\n",
        "\n",
        "  for rate in l_rates:\n",
        "    for epoch in epochs:\n",
        "      model_mid = RegLin()\n",
        "      opt = optim.SGD(model_mid.parameters(), lr=rate)\n",
        "\n",
        "      # historial de pérdida\n",
        "      loss_hist_mid = []\n",
        "      for _ in range(epoch):\n",
        "\n",
        "        # entrenamiento de una época\n",
        "        for x, y_true in trn_dl:\n",
        "            # hacemos inferencia para obtener los logits\n",
        "            y_lgts = model_mid(x)\n",
        "            # print(y_lgts)\n",
        "            # calculamos de pérdida\n",
        "            loss = F.mse_loss(y_lgts, y_true)\n",
        "            # vaciamos los gradientes\n",
        "            opt.zero_grad()\n",
        "            # retropropagamos\n",
        "            loss.backward()\n",
        "            # actulizamos parámetros\n",
        "            opt.step()\n",
        "            \n",
        "            # guardamos historial de pérdida\n",
        "            loss_hist_mid.append(loss.item() * 100)\n",
        "\n",
        "        mid_hist.append(loss_hist_mid)\n"
      ],
      "execution_count": null,
      "outputs": []
    },
    {
      "cell_type": "markdown",
      "metadata": {
        "id": "lrV4Ck4DGR3D"
      },
      "source": [
        "Graficamos el desempeño con la interfaz de alto nivel:"
      ]
    },
    {
      "cell_type": "code",
      "metadata": {
        "id": "MUUVC3S-LJm8"
      },
      "source": [
        "colors_grph = [\"blue\", \"red\", \"green\", \"orange\", \"magenta\"]\n",
        "cnt_lss = 0\n",
        "for batch_size_i in range(len(batches)):\n",
        "  fig, axs = plt.subplots(len(epochs), len(l_rates), figsize=(20,17))\n",
        "\n",
        "  for learning_rate_i in range(len(l_rates)):\n",
        "    for epoch_value_i in range(len(epochs)):\n",
        "      axs[epoch_value_i][learning_rate_i].plot(high_hist[cnt_lss], color=colors_grph[batch_size_i])\n",
        "      cnt_lss += 1\n",
        "      axs[epoch_value_i][learning_rate_i].set_xlabel('iteraciones')\n",
        "      axs[epoch_value_i][learning_rate_i].set_ylabel('ECM')\n",
        "      axs[epoch_value_i][learning_rate_i].set_title('Epochs: ' + str(epochs[epoch_value_i])+ ' - LR: ' + str(l_rates[learning_rate_i]))\n",
        "  fig.suptitle('Batch Size: ' + str(batches[batch_size_i]))\n",
        "  fig.tight_layout()"
      ],
      "execution_count": null,
      "outputs": []
    },
    {
      "cell_type": "markdown",
      "metadata": {
        "id": "MkWZBB6MGMtI"
      },
      "source": [
        "Graficamos el desempeño con la función de nivel medio:"
      ]
    },
    {
      "cell_type": "code",
      "metadata": {
        "id": "i1zXJhIIaWHi"
      },
      "source": [
        "colors_grph = [\"blue\", \"red\", \"green\", \"orange\", \"magenta\"]\n",
        "cnt_lss = 0\n",
        "for batch_size_i in range(len(batches)):\n",
        "  fig, axs = plt.subplots(len(epochs), len(l_rates), figsize=(20,17))\n",
        "\n",
        "  for learning_rate_i in range(len(l_rates)):\n",
        "    for epoch_value_i in range(len(epochs)):\n",
        "      axs[epoch_value_i][learning_rate_i].plot(mid_hist[cnt_lss], color=colors_grph[batch_size_i])\n",
        "      cnt_lss += 1\n",
        "      axs[epoch_value_i][learning_rate_i].set_xlabel('iteraciones')\n",
        "      axs[epoch_value_i][learning_rate_i].set_ylabel('ECM')\n",
        "      axs[epoch_value_i][learning_rate_i].set_title('Epochs: ' + str(epochs[epoch_value_i])+ ' - LR: ' + str(l_rates[learning_rate_i]))\n",
        "  fig.suptitle('Batch Size: ' + str(batches[batch_size_i]))\n",
        "  fig.tight_layout()"
      ],
      "execution_count": null,
      "outputs": []
    },
    {
      "cell_type": "markdown",
      "metadata": {
        "id": "AN3l3Vfzdl4m"
      },
      "source": [
        "Probamos ambos modelos con parámetros fijos para hacer inferencia y ver diferencias. Primero, probamos con una configuración que sea buena para el modelo de alto nivel y mala para el modelo de nivel medio."
      ]
    },
    {
      "cell_type": "code",
      "metadata": {
        "id": "RLps-3y0dnss"
      },
      "source": [
        "\n",
        "b_size = 2\n",
        "l_rate = 0.001\n",
        "epochs = 10\n",
        "\n",
        "\n",
        "# probamos el modelo de alto nivel\n",
        "\n",
        "ds = CalifDS(x_trn, y_trn, z_trn)\n",
        "trn_dl = DataLoader(ds, batch_size=b_size, shuffle=True)\n",
        "\n",
        "# redefinimos\n",
        "\n",
        "model_high = nn.Sequential(\n",
        "  nn.Linear(2, 1)\n",
        ")\n",
        "\n",
        "opt = optim.SGD(model_high.parameters(), lr=l_rate)\n",
        "\n",
        "# entrenamos\n",
        "\n",
        "for _ in range(epochs):\n",
        "\n",
        "    # entrenamiento de una época\n",
        "    for x, y_true in trn_dl:\n",
        "        # hacemos inferencia para obtener los logits\n",
        "        y_lgts = model_high(x)\n",
        "        # calculamos de pérdida\n",
        "        loss = F.mse_loss(y_lgts, y_true)\n",
        "        # vaciamos los gradientes\n",
        "        opt.zero_grad()\n",
        "        # retropropagamos\n",
        "        loss.backward()\n",
        "        # actulizamos parámetros\n",
        "        opt.step()\n",
        "\n",
        "x_test = torch.tensor([[3., 12.]])\n",
        "\n",
        "with torch.no_grad():\n",
        "  y_pred = model_high(x_test).numpy()\n",
        "\n",
        "[w, b] = model_high.parameters()\n",
        "print([w,b])\n",
        "print(\"Prediccion: \", y_pred[0][0])"
      ],
      "execution_count": null,
      "outputs": []
    },
    {
      "cell_type": "code",
      "metadata": {
        "id": "R27_bSVbhXcC"
      },
      "source": [
        "# probamos el modelo de nivel medio\n",
        "\n",
        "ds = CalifDS(x_trn, y_trn, z_trn)\n",
        "trn_dl = DataLoader(ds, batch_size=b_size, shuffle=True)\n",
        "\n",
        "# redefinimos\n",
        "\n",
        "model_mid = RegLin()\n",
        "\n",
        "opt = optim.SGD(model_mid.parameters(), lr=l_rate)\n",
        "\n",
        "# entrenamos\n",
        "\n",
        "for _ in range(epochs):\n",
        "\n",
        "    # entrenamiento de una época\n",
        "    for x, y_true in trn_dl:\n",
        "        # hacemos inferencia para obtener los logits\n",
        "        y_lgts = model_mid(x)\n",
        "        # calculamos de pérdida\n",
        "        loss = F.mse_loss(y_lgts, y_true)\n",
        "        # vaciamos los gradientes\n",
        "        opt.zero_grad()\n",
        "        # retropropagamos\n",
        "        loss.backward()\n",
        "        # actulizamos parámetros\n",
        "        opt.step()\n",
        "\n",
        "x_test = torch.tensor([[3., 12.]])\n",
        "\n",
        "with torch.no_grad():\n",
        "  y_pred = model_mid(x_test).numpy()\n",
        "\n",
        "[w, b] = model_mid.parameters()\n",
        "print([w,b])\n",
        "print(\"Prediccion: \", y_pred[0][0])"
      ],
      "execution_count": null,
      "outputs": []
    },
    {
      "cell_type": "markdown",
      "metadata": {
        "id": "WuNpvZP_kZ9l"
      },
      "source": [
        "Ahora probaremos con una configuración que sea buena para ambos modelos:"
      ]
    },
    {
      "cell_type": "code",
      "metadata": {
        "id": "QjplmdT1kiil"
      },
      "source": [
        "b_size = 5\n",
        "l_rate = 0.001\n",
        "epochs = 2\n",
        "\n",
        "\n",
        "# probamos el modelo de alto nivel\n",
        "\n",
        "ds = CalifDS(x_trn, y_trn, z_trn)\n",
        "trn_dl = DataLoader(ds, batch_size=b_size, shuffle=True)\n",
        "\n",
        "# redefinimos\n",
        "\n",
        "model_high = nn.Sequential(\n",
        "  nn.Linear(2, 1)\n",
        ")\n",
        "\n",
        "opt = optim.SGD(model_high.parameters(), lr=l_rate)\n",
        "\n",
        "# entrenamos\n",
        "\n",
        "for _ in range(epochs):\n",
        "\n",
        "    # entrenamiento de una época\n",
        "    for x, y_true in trn_dl:\n",
        "        # hacemos inferencia para obtener los logits\n",
        "        y_lgts = model_high(x)\n",
        "        # calculamos de pérdida\n",
        "        loss = F.mse_loss(y_lgts, y_true)\n",
        "        # vaciamos los gradientes\n",
        "        opt.zero_grad()\n",
        "        # retropropagamos\n",
        "        loss.backward()\n",
        "        # actulizamos parámetros\n",
        "        opt.step()\n",
        "\n",
        "x_test = torch.tensor([[3., 12.]])\n",
        "\n",
        "with torch.no_grad():\n",
        "  y_pred = model_high(x_test).numpy()\n",
        "\n",
        "[w, b] = model_high.parameters()\n",
        "print([w,b])\n",
        "print(\"Prediccion: \", y_pred[0][0])"
      ],
      "execution_count": null,
      "outputs": []
    },
    {
      "cell_type": "code",
      "metadata": {
        "id": "UGb4mPlEkybO"
      },
      "source": [
        "# probamos el modelo de nivel medio\n",
        "\n",
        "ds = CalifDS(x_trn, y_trn, z_trn)\n",
        "trn_dl = DataLoader(ds, batch_size=b_size, shuffle=True)\n",
        "\n",
        "# redefinimos\n",
        "\n",
        "model_mid = RegLin()\n",
        "\n",
        "opt = optim.SGD(model_mid.parameters(), lr=l_rate)\n",
        "\n",
        "# entrenamos\n",
        "\n",
        "for _ in range(epochs):\n",
        "\n",
        "    # entrenamiento de una época\n",
        "    for x, y_true in trn_dl:\n",
        "        # hacemos inferencia para obtener los logits\n",
        "        y_lgts = model_mid(x)\n",
        "        # calculamos de pérdida\n",
        "        loss = F.mse_loss(y_lgts, y_true)\n",
        "        # vaciamos los gradientes\n",
        "        opt.zero_grad()\n",
        "        # retropropagamos\n",
        "        loss.backward()\n",
        "        # actulizamos parámetros\n",
        "        opt.step()\n",
        "\n",
        "x_test = torch.tensor([[3., 12.]])\n",
        "\n",
        "with torch.no_grad():\n",
        "  y_pred = model_mid(x_test).numpy()\n",
        "\n",
        "[w, b] = model_mid.parameters()\n",
        "print([w,b])\n",
        "print(\"Prediccion: \", y_pred[0][0])"
      ],
      "execution_count": null,
      "outputs": []
    },
    {
      "cell_type": "markdown",
      "metadata": {
        "id": "zwJb9ojgh6br"
      },
      "source": [
        "**Discusión**\n",
        "\n",
        "Se hicieron dos pruebas: una con parámetros para los que el desempeño fue diferente para ambos modelos y otra en la que el desempeño fue similar. En ambos casos observamos que las predicciones son consistentes: 8.20 y 8.71 para el modelo de alto nivel, 7.65 y 7.04 para el modelo de nivel medio respectivamente.\n",
        "\n",
        "\n",
        "En general para el caso del modelo de nivel medio es posible ver cómo un número mayor de épocas hace que el desempeño de la optimización sea mayor, al contrario que con el modelo de alto nivel, el cual presenta más ruido conforme va aumentando el número de épocas. Sin embargo, el nivel de ruido es significativamente menor en el modelo de alto nivel. En el caso particular del modelo de alto nivel es posible observar que las tasas de aprendizaje hacen que el ruido aumente conforme se acercan a 1. En resumen, el modelo de alto nivel parece ser más sensible a los cambios en la tasa de aprendizaje y el modelo de nivel medio a los cambios en épocas.\n"
      ]
    },
    {
      "cell_type": "markdown",
      "metadata": {
        "id": "AOU0DrkeDbjx"
      },
      "source": [
        "# 4. Red completamente conectada con PyTorch\n",
        "\n",
        "Implementa una red completamente conectada para la tarea de clasificación de imágenes sobre el conjunto de Fashion-MNIST, tomando en cuenta las siguientes especificaciones:\n",
        "\n",
        "* Explora con diferentes números de neuronas, capas, funciones de activación e hiperparámetros\n",
        "\n",
        "* Discute tus resultados con las distintas configuraciones"
      ]
    },
    {
      "cell_type": "markdown",
      "metadata": {
        "id": "WQa-yIUemslv"
      },
      "source": [
        "Descargamos el conjunto de datos y obtenemos los parámetros para normalizar más adelante:"
      ]
    },
    {
      "cell_type": "code",
      "metadata": {
        "id": "78TfeZTlmuNu"
      },
      "source": [
        "# directorio de datos\n",
        "DATA_DIR = './data'\n",
        "# objeto para normalizacion de las imagenes\n",
        "transform = trans.Compose([\n",
        "    trans.ToTensor()\n",
        "])\n",
        "\n",
        "train_transform_meanstd = trans.Compose([trans.ToTensor()])\n",
        "\n",
        "# obtenemos el conjunto de entrenamiento normalizándolo como tensor\n",
        "train_set_meanstd = FashionMNIST(\n",
        "    root=DATA_DIR, \n",
        "    train=True, \n",
        "    download=True, \n",
        "    transform=train_transform_meanstd\n",
        "  )\n",
        "\n",
        "# obtenemos la media y desviacion estandar\n",
        "MEAN = train_set_meanstd.train_data.float().mean()/255.0\n",
        "MEAN = (MEAN.item(),)\n",
        "STD = train_set_meanstd.train_data.float().std()/255.0\n",
        "STD = (STD.item(),)"
      ],
      "execution_count": null,
      "outputs": []
    },
    {
      "cell_type": "markdown",
      "metadata": {
        "id": "1mJgjcl5pEzv"
      },
      "source": [
        "Probaremos la arquitectura de la red con los siguientes parámetros:"
      ]
    },
    {
      "cell_type": "code",
      "metadata": {
        "id": "FoD2kd23pJcv"
      },
      "source": [
        "# Tasa de aprendizaje\n",
        "l_lrates = [0.01, 0.5]\n",
        "# epocss\n",
        "l_epochs = [5, 20, 50]\n",
        "# numero de neuronas\n",
        "l_neurons_values = [5, 10]\n",
        "# capas ocultas\n",
        "l_hidden = [2, 5]\n",
        "\n",
        "#funciones\n",
        "l_acts = [\n",
        "  nn.Sigmoid(),\n",
        "  nn.ReLU(),\n",
        "  nn.Tanh(),\n",
        "]\n",
        "\n",
        "\n",
        "\n",
        "# tamaño del lote\n",
        "BATCH_SIZE = 128\n",
        "\n",
        "# reproducibilidad\n",
        "SEED = 0\n",
        "random.seed(SEED)\n",
        "np.random.seed(SEED)\n",
        "torch.manual_seed(SEED)"
      ],
      "execution_count": null,
      "outputs": []
    },
    {
      "cell_type": "markdown",
      "metadata": {
        "id": "lbzQ8bmFyJAw"
      },
      "source": [
        "Definiremos nuestra red neuronal modificando el constructor para recigbi el número de capas y la función de activación como parámetros:"
      ]
    },
    {
      "cell_type": "code",
      "metadata": {
        "id": "ST88PmWvyPEs"
      },
      "source": [
        "# definición del modelo\n",
        "# Se recibe como parametro el número de capas ocultas,\n",
        "# La capa 1 siempre tendra 128, la segunda 256, y la tercera 512\n",
        "class MLP(nn.Module):\n",
        "    \n",
        "    # inicializador\n",
        "    def __init__(self, n_hidden, activation_function_id, nvalues):\n",
        "        \n",
        "        # inicilización del objeto padre, obligatorio\n",
        "        super(MLP, self).__init__()\n",
        "\n",
        "        # Función de activación a utilizar\n",
        "        self.activation_function_id = activation_function_id\n",
        "\n",
        "        # Tamaño de la entrada\n",
        "        self.input_size = 1 * 28 * 28\n",
        "        \n",
        "        # Capas ocultas\n",
        "        self.n_hidden = n_hidden\n",
        "        self.hidden = []\n",
        "        # Primer capa oculta\n",
        "        self.hidden.append(nn.Linear(self.input_size, l_neurons_values[nvalues]))\n",
        "        for hidden_i in range(1, self.n_hidden):\n",
        "          self.hidden.append(nn.Linear(\n",
        "              self.hidden[-1].out_features,\n",
        "              l_neurons_values[nvalues]\n",
        "              ))\n",
        "\n",
        "        # Capa de Salida\n",
        "        self.output = nn.Linear(self.hidden[-1].out_features, 10)\n",
        "    \n",
        "    # metodo para inferencia\n",
        "    def forward(self, x):\n",
        "\n",
        "        # aplanamos los pixeles de la imagen\n",
        "        # [N, 1, 28, 28] => [N, 1x28x28]\n",
        "        x = x.view(-1, self.input_size)\n",
        "       \n",
        "        # inferencia\n",
        "        # capas ocultas\n",
        "        for hidden_i in range(self.n_hidden):\n",
        "          x = self.hidden[hidden_i](x)\n",
        "          x = l_acts[self.activation_function_id](x)\n",
        "          # print(activation_functions_values[self.activation_function_id])\n",
        "          # print(x)\n",
        "        # Capa de salida\n",
        "        x = self.output(x)\n",
        "\n",
        "        return x"
      ],
      "execution_count": null,
      "outputs": []
    },
    {
      "cell_type": "markdown",
      "metadata": {
        "id": "fw3FM8zY19Hb"
      },
      "source": [
        "Definimos el dataset y el dataloader:"
      ]
    },
    {
      "cell_type": "code",
      "metadata": {
        "id": "C-ly9mJz2BAx"
      },
      "source": [
        "# transformaciones para la imagen\n",
        "trn_tsfm = trans.Compose([\n",
        "    # convertimos a torch.Tensor y escalamos a [0,1]\n",
        "    trans.ToTensor(),\n",
        "    # estandarizamos: restamos la media y dividimos sobre la varianza\n",
        "    trans.Normalize(MEAN, STD),\n",
        "])\n",
        "\n",
        "# creamos un Dataset\n",
        "trn_ds = FashionMNIST(\n",
        "    root=DATA_DIR,\n",
        "    train=True,\n",
        "    transform=trn_tsfm\n",
        ")\n",
        "\n",
        "# creamos un DataLoader\n",
        "trn_dl = DataLoader(\n",
        "    trn_ds,\n",
        "    batch_size=BATCH_SIZE,\n",
        "    shuffle=True\n",
        ")\n",
        "\n",
        "# transformaciones para la imagen\n",
        "tst_tsfm = trans.Compose([\n",
        "    trans.ToTensor(),\n",
        "    trans.Normalize(MEAN, STD),\n",
        "])\n",
        "\n",
        "# creamos un Dataset\n",
        "tst_ds = FashionMNIST(\n",
        "    root=DATA_DIR, \n",
        "    train=False,\n",
        "    transform=tst_tsfm\n",
        ")\n",
        "\n",
        "# creamos un DataLoader\n",
        "tst_dl = DataLoader(\n",
        "    tst_ds,\n",
        "    batch_size=BATCH_SIZE,\n",
        "    shuffle=True\n",
        ")"
      ],
      "execution_count": null,
      "outputs": []
    },
    {
      "cell_type": "markdown",
      "metadata": {
        "id": "k3Eoi9Tq7f6O"
      },
      "source": [
        "Haremos las pruebas con todas las diferentes funciones. Comenzamos con la función sigmoide:"
      ]
    },
    {
      "cell_type": "code",
      "metadata": {
        "id": "re0s9_KL7jng"
      },
      "source": [
        "# Historiales de perdida\n",
        "loss_hists = []\n",
        "acc_hists = []\n",
        "\n",
        "\n",
        "for ep in range(len(l_epochs)):\n",
        "\n",
        "\n",
        "  for hid in range(len(l_hidden)):\n",
        "\n",
        "\n",
        "    for rate in range(len(l_lrates)):\n",
        "\n",
        "      for n_value in range(len(l_neurons_values)):\n",
        "      \n",
        "        # Definimos el modelo\n",
        "        curr_model = FMLP(l_hidden[hid], 0, n_value)\n",
        "\n",
        "        # optimizador\n",
        "        opt = optim.SGD(\n",
        "            curr_model.parameters(), lr=l_rates[rate])\n",
        "        \n",
        "        # historial de pérdida\n",
        "        curr_loss_hist = []\n",
        "\n",
        "        # ciclo de entrenamiento\n",
        "        for curr_epoch_i in range(l_epochs[ep]):\n",
        "      \n",
        "          # entrenamiento de una época\n",
        "          for x, y_true in trn_dl:\n",
        "\n",
        "              # vaciamos los gradientes\n",
        "              opt.zero_grad()\n",
        "              # hacemos inferencia para obtener los logits\n",
        "              y_lgts = curr_model(x)\n",
        "              # calculamos la pérdida\n",
        "              loss = F.cross_entropy(y_lgts, y_true)\n",
        "              # retropropagamos\n",
        "              loss.backward()\n",
        "              # actulizamos parámetros\n",
        "              opt.step()\n",
        "\n",
        "              # agregamos al historial de pérdidas\n",
        "              curr_loss_hist.append(loss.item())\n",
        "\n",
        "        loss_hists.append(curr_loss_hist)\n",
        "\n",
        "   \n",
        "        # modelo en modo de evaluación\n",
        "        curr_model.eval()\n",
        "\n",
        "        with torch.no_grad(): \n",
        "                \n",
        "            accs = []\n",
        "            # validación de la época\n",
        "            for x, y_true in take(tst_dl,10):\n",
        "                # hacemos inferencia para obtener los logits\n",
        "                y_lgts = curr_model(x)\n",
        "                # calculamos las probabilidades\n",
        "                y_prob = F.softmax(y_lgts, 1)\n",
        "                # obtenemos la clase predicha\n",
        "                y_pred = torch.argmax(y_prob, 1)\n",
        "                \n",
        "                # calculamos la exactitud\n",
        "                acc = (y_true == y_pred).type(torch.float32).mean()\n",
        "\n",
        "                accs.append(acc.item() * 100)\n",
        "\n",
        "            acc = np.mean(accs)\n",
        "            acc_hists.append(acc)\n",
        "\n",
        "\n",
        "        print(f\"SIG - EP: {l_epochs[ep]} HIDDEN: {l_hidden[hid]} LR: {l_rates[rate]}\")\n",
        "        plt.plot(curr_loss_hist, color='red')\n",
        "        plt.xlabel('época')\n",
        "        plt.ylabel('pérdida')\n",
        "        plt.show()"
      ],
      "execution_count": null,
      "outputs": []
    },
    {
      "cell_type": "markdown",
      "metadata": {
        "id": "9nAyl37WyNft"
      },
      "source": [
        "En el caso de la función sigmoide vemos cómo la evolución tiende a reducir la pérdida. Sin embargo para ciertas épocas parece retroceder en la exactitud del desempeño. Esto podría deberse a la característica del desvanecimiento de gradiente de esta función."
      ]
    },
    {
      "cell_type": "markdown",
      "metadata": {
        "id": "4Elf7qdxxwBb"
      },
      "source": [
        "Continuamos con la función ReLU:"
      ]
    },
    {
      "cell_type": "code",
      "metadata": {
        "id": "PtzfoRkpsGjr"
      },
      "source": [
        "# Historiales de perdida\n",
        "loss_hists = []\n",
        "acc_hists = []\n",
        "\n",
        "\n",
        "for ep in range(len(l_epochs)):\n",
        "\n",
        "\n",
        "  for hid in range(len(l_hidden)):\n",
        "\n",
        "\n",
        "    for rate in range(len(l_lrates)):\n",
        "\n",
        "      for n_value in range(len(l_neurons_values)):\n",
        "      \n",
        "        # Definimos el modelo\n",
        "        curr_model = FMLP(l_hidden[hid], 1, n_value)\n",
        "\n",
        "        # optimizador\n",
        "        opt = optim.SGD(\n",
        "            curr_model.parameters(), lr=l_rates[rate])\n",
        "        \n",
        "        # historial de pérdida\n",
        "        curr_loss_hist = []\n",
        "\n",
        "        # ciclo de entrenamiento\n",
        "        for curr_epoch_i in range(l_epochs[ep]):\n",
        "      \n",
        "          # entrenamiento de una época\n",
        "          for x, y_true in trn_dl:\n",
        "\n",
        "              # vaciamos los gradientes\n",
        "              opt.zero_grad()\n",
        "              # hacemos inferencia para obtener los logits\n",
        "              y_lgts = curr_model(x)\n",
        "              # calculamos la pérdida\n",
        "              loss = F.cross_entropy(y_lgts, y_true)\n",
        "              # retropropagamos\n",
        "              loss.backward()\n",
        "              # actulizamos parámetros\n",
        "              opt.step()\n",
        "\n",
        "              # agregamos al historial de pérdidas\n",
        "              curr_loss_hist.append(loss.item())\n",
        "\n",
        "        # save the current list of losses \n",
        "        loss_hists.append(curr_loss_hist)\n",
        "\n",
        "     \n",
        "        # modelo en modo de evaluación\n",
        "        curr_model.eval()\n",
        "\n",
        "        # evitamos que se registren las operaciones \n",
        "        # en la gráfica de cómputo\n",
        "        with torch.no_grad(): \n",
        "                \n",
        "            accs = []\n",
        "            # validación de la época\n",
        "            for x, y_true in take(tst_dl,10):\n",
        "                # hacemos inferencia para obtener los logits\n",
        "                y_lgts = curr_model(x)\n",
        "                # calculamos las probabilidades\n",
        "                y_prob = F.softmax(y_lgts, 1)\n",
        "                # obtenemos la clase predicha\n",
        "                y_pred = torch.argmax(y_prob, 1)\n",
        "                \n",
        "                # calculamos la exactitud\n",
        "                acc = (y_true == y_pred).type(torch.float32).mean()\n",
        "\n",
        "                accs.append(acc.item() * 100)\n",
        "\n",
        "            acc = np.mean(accs)\n",
        "            acc_hists.append(acc)\n",
        "\n",
        "        # Print progress\n",
        "        print(f\"ReLU - EP: {l_epochs[ep]} HIDDEN: {l_hidden[hid} LR: {l_rates[rate]}\")\n",
        "        plt.plot(curr_loss_hist, color='red')\n",
        "        plt.xlabel('época')\n",
        "        plt.ylabel('pérdida')\n",
        "        plt.show()\n",
        "        print(acc_hists[-1])"
      ],
      "execution_count": null,
      "outputs": []
    },
    {
      "cell_type": "markdown",
      "metadata": {
        "id": "YkJJ0gwTzdIX"
      },
      "source": [
        "En el caso de la función ReLU es posible ver cómo tasas de aprendizaje más cercanas a 0.1 hacen que la función tenga mejor desempeño, al contrario de usar una tasa de 0.001 en la que es posible ver un desempeño muy bajo. A su vez, el número de neuronas en las capas ocultas tiene un efecto positivo conforme aumenta. Sin embargo, se observa el mejor desempeño con 5 épocas y 5 neuronas por capa oculta."
      ]
    },
    {
      "cell_type": "markdown",
      "metadata": {
        "id": "GuOnpcH3sGAK"
      },
      "source": [
        "Finalizamos con la función tangente hiperbólica:"
      ]
    },
    {
      "cell_type": "code",
      "metadata": {
        "id": "hAygQOX8x4yu"
      },
      "source": [
        "# Historiales de perdida\n",
        "loss_hists = []\n",
        "acc_hists = []\n",
        "\n",
        "\n",
        "for ep in range(len(l_epochs)):\n",
        "\n",
        "\n",
        "  for hid in range(len(l_hidden)):\n",
        "\n",
        "    for rate in range(len(l_lrates)):\n",
        "\n",
        "      for n_value in range(len(l_neurons_values)):\n",
        "      \n",
        "        # Definimos el modelo\n",
        "        curr_model = FMLP(l_hidden[hid], 2, n_value)\n",
        "\n",
        "        # optimizador\n",
        "        opt = optim.SGD(\n",
        "            curr_model.parameters(), lr=l_rates[rate])\n",
        "        \n",
        "        # historial de pérdida\n",
        "        curr_loss_hist = []\n",
        "\n",
        "        # ciclo de entrenamiento\n",
        "        for curr_epoch_i in range(l_epochs[ep]):\n",
        "      \n",
        "          # entrenamiento de una época\n",
        "          for x, y_true in trn_dl:\n",
        "\n",
        "              # vaciamos los gradientes\n",
        "              opt.zero_grad()\n",
        "              # hacemos inferencia para obtener los logits\n",
        "              y_lgts = curr_model(x)\n",
        "              # calculamos la pérdida\n",
        "              loss = F.cross_entropy(y_lgts, y_true)\n",
        "              # retropropagamos\n",
        "              loss.backward()\n",
        "              # actulizamos parámetros\n",
        "              opt.step()\n",
        "\n",
        "              # agregamos al historial de pérdidas\n",
        "              curr_loss_hist.append(loss.item())\n",
        "\n",
        "        # save the current list of losses \n",
        "        loss_hists.append(curr_loss_hist)\n",
        "\n",
        "       \n",
        "        # modelo en modo de evaluación\n",
        "        curr_model.eval()\n",
        "\n",
        "        # evitamos que se registren las operaciones \n",
        "        # en la gráfica de cómputo\n",
        "        with torch.no_grad(): \n",
        "                \n",
        "            accs = []\n",
        "            # validación de la época\n",
        "            for x, y_true in take(tst_dl,10):\n",
        "                # hacemos inferencia para obtener los logits\n",
        "                y_lgts = curr_model(x)\n",
        "                # calculamos las probabilidades\n",
        "                y_prob = F.softmax(y_lgts, 1)\n",
        "                # obtenemos la clase predicha\n",
        "                y_pred = torch.argmax(y_prob, 1)\n",
        "                \n",
        "                # calculamos la exactitud\n",
        "                acc = (y_true == y_pred).type(torch.float32).mean()\n",
        "\n",
        "                accs.append(acc.item() * 100)\n",
        "\n",
        "            acc = np.mean(accs)\n",
        "            acc_hists.append(acc)\n",
        "\n",
        "        # Print progress\n",
        "        print(f\"TanH - EP: {l_epochs[ep]} HIDDEN: {l_hidden[hid]} LR: {l_rates[rate]}\")\n",
        "        plt.plot(curr_loss_hist, color='red')\n",
        "        plt.xlabel('época')\n",
        "        plt.ylabel('pérdida')\n",
        "        plt.show()"
      ],
      "execution_count": null,
      "outputs": []
    },
    {
      "cell_type": "markdown",
      "metadata": {
        "id": "ou2XbGYM4E5o"
      },
      "source": [
        "En el caso de la función de tangente hiperbólica podemos apreciar que, a comparación de la función sigmoide, existe una tendencia clara a reducir el valor de la pérdida en las diferentes iteraciones. Si bien esta función también presenta desvanecimiento de gradiente, el rango en el que acota los valores la hace más flexible y es posible apreciarlo en el desempeño con este problema."
      ]
    },
    {
      "cell_type": "markdown",
      "metadata": {
        "id": "5SU2zLIE8O0q"
      },
      "source": [
        "**Conclusiones**\n",
        "\n",
        "En general es posible apreciar que las tres funciones tienen diferentes combinacines de parámentros en las que se comportan mejor. Algo apreciable en los tres casos es que tienen a estabilizarse en valores de pérdida significativamente lejanos del 0. Se recomienda buscar configuraciones diferentes a las utilizadas en este ejercicio para hacer un análisis más extensivo. "
      ]
    }
  ]
}